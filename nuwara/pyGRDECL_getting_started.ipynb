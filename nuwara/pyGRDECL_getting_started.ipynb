{
  "nbformat": 4,
  "nbformat_minor": 0,
  "metadata": {
    "kernelspec": {
      "name": "python3",
      "display_name": "Python 3"
    },
    "colab": {
      "name": "pyGRDECL_getting_started.ipynb",
      "provenance": [],
      "include_colab_link": true
    }
  },
  "cells": [
    {
      "cell_type": "markdown",
      "metadata": {
        "id": "view-in-github",
        "colab_type": "text"
      },
      "source": [
        "<a href=\"https://colab.research.google.com/github/yohanesnuwara/PyGRDECL/blob/master/nuwara/pyGRDECL_getting_started.ipynb\" target=\"_parent\"><img src=\"https://colab.research.google.com/assets/colab-badge.svg\" alt=\"Open In Colab\"/></a>"
      ]
    },
    {
      "cell_type": "code",
      "metadata": {
        "id": "cEL25M29ktQ9",
        "colab_type": "code",
        "outputId": "4be09d1c-142e-474b-d523-cc474cd93f44",
        "colab": {
          "base_uri": "https://localhost:8080/",
          "height": 150
        }
      },
      "source": [
        "!git clone https://github.com/BinWang0213/PyGRDECL"
      ],
      "execution_count": 1,
      "outputs": [
        {
          "output_type": "stream",
          "text": [
            "Cloning into 'PyGRDECL'...\n",
            "remote: Enumerating objects: 25, done.\u001b[K\n",
            "remote: Counting objects: 100% (25/25), done.\u001b[K\n",
            "remote: Compressing objects: 100% (20/20), done.\u001b[K\n",
            "remote: Total 314 (delta 6), reused 20 (delta 5), pack-reused 289\u001b[K\n",
            "Receiving objects: 100% (314/314), 47.21 MiB | 19.88 MiB/s, done.\n",
            "Resolving deltas: 100% (155/155), done.\n",
            "Checking out files: 100% (46/46), done.\n"
          ],
          "name": "stdout"
        }
      ]
    },
    {
      "cell_type": "code",
      "metadata": {
        "id": "0K6cmw-Ll_Bq",
        "colab_type": "code",
        "colab": {
          "base_uri": "https://localhost:8080/",
          "height": 33
        },
        "outputId": "b18abfc7-9942-49de-9fe0-8af85c50b09b"
      },
      "source": [
        "!pip install vtk"
      ],
      "execution_count": 1,
      "outputs": [
        {
          "output_type": "stream",
          "text": [
            "Requirement already satisfied: vtk in /usr/local/lib/python3.6/dist-packages (8.1.2)\n"
          ],
          "name": "stdout"
        }
      ]
    },
    {
      "cell_type": "code",
      "metadata": {
        "id": "swKajXb5lGgk",
        "colab_type": "code",
        "colab": {}
      },
      "source": [
        "import sys\n",
        "sys.path.append('/content/PyGRDECL')"
      ],
      "execution_count": 0,
      "outputs": []
    },
    {
      "cell_type": "code",
      "metadata": {
        "id": "7FNcwcZbkpG4",
        "colab_type": "code",
        "colab": {}
      },
      "source": [
        "%matplotlib inline\n",
        "%load_ext autoreload\n",
        "%autoreload 2\n",
        "\n",
        "from GRDECL2VTK import *\n",
        "import GRDECL2VTK"
      ],
      "execution_count": 0,
      "outputs": []
    },
    {
      "cell_type": "markdown",
      "metadata": {
        "id": "2sYiGBRYkpHA",
        "colab_type": "text"
      },
      "source": [
        "### Exampel 1 - Load grid data with perm and porosity"
      ]
    },
    {
      "cell_type": "code",
      "metadata": {
        "id": "rAAEAsSRmVBf",
        "colab_type": "code",
        "colab": {
          "base_uri": "https://localhost:8080/",
          "height": 201
        },
        "outputId": "ca07c0dd-d7bd-4d77-b0af-d1f41410a6bf"
      },
      "source": [
        "import vtk\n",
        "from GRDECL2VTK import GeologyModel\n",
        "\n",
        "#Model=GeologyModel(filename='./ExampleData/Simple3x3x1.grdecl')\n",
        "#Model=GeologyModel(filename='./ExampleData/Simple20x20x5.grdecl')\n",
        "#Model=GeologyModel(filename='./ExampleData/Simple20x20x5_Fault.grdecl')\n",
        "#Model=GeologyModel(filename='./ExampleData/Simple10x10x3_Flat_Fault.grdecl')\n",
        "#Model=GeologyModel(filename='./ExampleData/Simple10x10x3_FlatCross_Fault.grdecl')\n",
        "#Model=GeologyModel(filename='./ExampleData/40X48x1_3fatults.grdecl')\n",
        "#Model=GeologyModel(filename='./ExampleData/snarkgrid.grdecl')\n",
        "Model=GeologyModel(filename='/content/PyGRDECL/ExampleData/dome.grdecl')\n",
        "#Model=GeologyModel(filename='./ExampleData/pillar_36x48.grdecl')\n",
        "#Model=GeologyModel(filename='./ExampleData/Johansen.grdecl')\n",
        "#Model=GeologyModel(filename='./ExampleData/Norne.GRDECL')\n",
        "\n",
        "Model.GRDECL2VTK()\n",
        "Model.Write2VTU()"
      ],
      "execution_count": 4,
      "outputs": [
        {
          "output_type": "stream",
          "text": [
            "[Input] Reading ECLIPSE/PETREL file \"/content/PyGRDECL/ExampleData/dome.grdecl\" ....\n",
            "     Grid Type=CornerPoint\n",
            "     Grid Dimension(NX,NY,NZ): (20 x 20 x 4)\n",
            "     NumOfGrids=1600\n",
            "     NumOfKeywords=11\n",
            "     Reading Keywords [SPECGRID]      [PORO]      [PERMX]      [PERMY]      [PERMZ] .....Done!\n",
            "[Geometry] Converting GRDECL to Paraview Hexahedron mesh data....\n",
            "     NumOfPoints 12800\n",
            "     NumOfCells 1600\n",
            "     .....Done!\n",
            "[Output] Writing \"Results/dome.vtu\" Paraview file....Done!\n"
          ],
          "name": "stdout"
        }
      ]
    },
    {
      "cell_type": "code",
      "metadata": {
        "id": "uRXNpUJ-kpHI",
        "colab_type": "code",
        "outputId": "8fd26aa9-8941-4b64-98b8-882f46cc03d8",
        "colab": {
          "base_uri": "https://localhost:8080/",
          "height": 521
        }
      },
      "source": [
        "Model.decomposeModel()\n",
        "Model.Write2VTU()"
      ],
      "execution_count": 5,
      "outputs": [
        {
          "output_type": "stream",
          "text": [
            "[FaultProcess] Found 7 faults.\n",
            "Added 1 new intersection pts\n",
            "[FaultProcess] Domain is splitted as 6 polygons.\n"
          ],
          "name": "stdout"
        },
        {
          "output_type": "display_data",
          "data": {
            "image/png": "[encoded data removed]",
            "text/plain": [
              "<Figure size 480x480 with 2 Axes>"
            ]
          },
          "metadata": {
            "tags": []
          }
        },
        {
          "output_type": "stream",
          "text": [
            "[Output] Writing \"Results/dome.vtu\" Paraview file....Done!\n"
          ],
          "name": "stdout"
        }
      ]
    },
    {
      "cell_type": "code",
      "metadata": {
        "id": "sLnMeMqFkpHO",
        "colab_type": "code",
        "outputId": "a7b11a9b-77ee-45d4-a760-ed048480dae8",
        "colab": {
          "base_uri": "https://localhost:8080/",
          "height": 50
        }
      },
      "source": [
        "Model.Write2VTP()"
      ],
      "execution_count": 6,
      "outputs": [
        {
          "output_type": "stream",
          "text": [
            "[Output] Writing \"Results/dome.vtu\" Paraview file....Done!\n",
            "[Output] Writing \"Results/dome.vtp\" VTP file..vtp file created.\n"
          ],
          "name": "stdout"
        }
      ]
    },
    {
      "cell_type": "markdown",
      "metadata": {
        "id": "K_zIz_mxkpHU",
        "colab_type": "text"
      },
      "source": [
        "### Interactive Visulization directly from Jupyter Notebook (using pyvista)"
      ]
    },
    {
      "cell_type": "code",
      "metadata": {
        "id": "dy5bUXKfrRLq",
        "colab_type": "code",
        "colab": {
          "base_uri": "https://localhost:8080/",
          "height": 204
        },
        "outputId": "90e22e6d-5618-415d-9f7b-120f1ed5b45b"
      },
      "source": [
        "!pip install pyvista"
      ],
      "execution_count": 7,
      "outputs": [
        {
          "output_type": "stream",
          "text": [
            "Requirement already satisfied: pyvista in /usr/local/lib/python3.6/dist-packages (0.24.0)\n",
            "Requirement already satisfied: vtk in /usr/local/lib/python3.6/dist-packages (from pyvista) (8.1.2)\n",
            "Requirement already satisfied: appdirs in /usr/local/lib/python3.6/dist-packages (from pyvista) (1.4.3)\n",
            "Requirement already satisfied: imageio in /usr/local/lib/python3.6/dist-packages (from pyvista) (2.4.1)\n",
            "Requirement already satisfied: meshio<5.0,>=4.0.3 in /usr/local/lib/python3.6/dist-packages (from pyvista) (4.0.10)\n",
            "Requirement already satisfied: numpy in /usr/local/lib/python3.6/dist-packages (from pyvista) (1.18.2)\n",
            "Requirement already satisfied: scooby>=0.5.1 in /usr/local/lib/python3.6/dist-packages (from pyvista) (0.5.2)\n",
            "Requirement already satisfied: pillow in /usr/local/lib/python3.6/dist-packages (from imageio->pyvista) (7.0.0)\n",
            "Requirement already satisfied: importlib-metadata in /usr/local/lib/python3.6/dist-packages (from meshio<5.0,>=4.0.3->pyvista) (1.5.0)\n",
            "Requirement already satisfied: zipp>=0.5 in /usr/local/lib/python3.6/dist-packages (from importlib-metadata->meshio<5.0,>=4.0.3->pyvista) (3.1.0)\n"
          ],
          "name": "stdout"
        }
      ]
    },
    {
      "cell_type": "code",
      "metadata": {
        "id": "S-5ijZeHkpHV",
        "colab_type": "code",
        "colab": {}
      },
      "source": [
        "try:\n",
        "    import pyvista as pv\n",
        "except ImportError:\n",
        "    import warnings\n",
        "    warnings.warn(\"No vtk notebook viewer module pyvista loaded.\")"
      ],
      "execution_count": 0,
      "outputs": []
    },
    {
      "cell_type": "code",
      "metadata": {
        "id": "qqAWFyk2kpHe",
        "colab_type": "code",
        "outputId": "34af8ef3-58c5-4a8a-9751-6c34120e9b03",
        "colab": {
          "base_uri": "https://localhost:8080/",
          "height": 180
        }
      },
      "source": [
        "mesh = pv.read('Results/dome.vtp')\n",
        "mesh"
      ],
      "execution_count": 9,
      "outputs": [
        {
          "output_type": "execute_result",
          "data": {
            "text/html": [
              "<table><tr><th>Header</th><th>Data Arrays</th></tr><tr><td>\n",
              "<table>\n",
              "<tr><th>PolyData</th><th>Information</th></tr>\n",
              "<tr><td>N Cells</td><td>9600</td></tr>\n",
              "<tr><td>N Points</td><td>12800</td></tr>\n",
              "<tr><td>X Bounds</td><td>-2.247e+01, 1.630e+03</td></tr>\n",
              "<tr><td>Y Bounds</td><td>-1.242e+03, 5.627e+01</td></tr>\n",
              "<tr><td>Z Bounds</td><td>1.999e+03, 2.646e+03</td></tr>\n",
              "<tr><td>N Arrays</td><td>6</td></tr>\n",
              "</table>\n",
              "\n",
              "</td><td>\n",
              "<table>\n",
              "<tr><th>Name</th><th>Field</th><th>Type</th><th>N Comp</th><th>Min</th><th>Max</th></tr>\n",
              "<tr><td><b>PORO</b></td><td>Cells</td><td>float32</td><td>1</td><td>1.016e-01</td><td>4.098e-01</td></tr>\n",
              "<tr><td>PERMX</td><td>Cells</td><td>float32</td><td>1</td><td>2.503e-01</td><td>1.027e+03</td></tr>\n",
              "<tr><td>PERMY</td><td>Cells</td><td>float32</td><td>1</td><td>4.144e-01</td><td>9.247e+02</td></tr>\n",
              "<tr><td>PERMZ</td><td>Cells</td><td>float32</td><td>1</td><td>1.555e-01</td><td>2.055e+02</td></tr>\n",
              "<tr><td>SubVolumeIDs</td><td>Cells</td><td>float32</td><td>1</td><td>1.000e+00</td><td>6.000e+00</td></tr>\n",
              "<tr><td>SubVolumes</td><td>Cells</td><td>float32</td><td>1</td><td>3.820e-01</td><td>8.847e+00</td></tr>\n",
              "</table>\n",
              "\n",
              "</td></tr> </table>"
            ],
            "text/plain": [
              "PolyData (0x7f84a2713a08)\n",
              "  N Cells:\t9600\n",
              "  N Points:\t12800\n",
              "  X Bounds:\t-2.247e+01, 1.630e+03\n",
              "  Y Bounds:\t-1.242e+03, 5.627e+01\n",
              "  Z Bounds:\t1.999e+03, 2.646e+03\n",
              "  N Arrays:\t6"
            ]
          },
          "metadata": {
            "tags": []
          },
          "execution_count": 9
        }
      ]
    },
    {
      "cell_type": "code",
      "metadata": {
        "id": "0FXskN0-kpHn",
        "colab_type": "code",
        "colab": {
          "base_uri": "https://localhost:8080/",
          "height": 33
        },
        "outputId": "b277fe1a-617d-4cb9-e520-8bd313bfc0e3"
      },
      "source": [
        "mesh.plot(scalars=\"PORO\",show_edges=True, notebook=False)"
      ],
      "execution_count": 0,
      "outputs": [
        {
          "output_type": "stream",
          "text": [
            "ERROR:root:bad X server connection. DISPLAY=\n"
          ],
          "name": "stderr"
        }
      ]
    },
    {
      "cell_type": "code",
      "metadata": {
        "id": "EU6PhBHNkpHv",
        "colab_type": "code",
        "colab": {}
      },
      "source": [
        "mesh.plot(scalars=\"PORO\",show_edges=True, notebook=True)"
      ],
      "execution_count": 0,
      "outputs": []
    },
    {
      "cell_type": "markdown",
      "metadata": {
        "id": "Vrq1o-YBkpHz",
        "colab_type": "text"
      },
      "source": [
        "### Exampel 2 - Load grid data and adding any custom field"
      ]
    },
    {
      "cell_type": "code",
      "metadata": {
        "id": "E31TP6vikpH0",
        "colab_type": "code",
        "outputId": "92131a5d-eaa1-47c5-84e2-e5ebad5128a7",
        "colab": {
          "base_uri": "https://localhost:8080/",
          "height": 229
        }
      },
      "source": [
        "Model=GeologyModel(filename='/content/PyGRDECL/ExampleData/dome.grdecl')\n",
        "\n",
        "TempData=Model.LoadCellData(varname=\"TEMP\",filename='./ExampleData/dome_Temperature.txt')\n",
        "Model.GRDECL2VTK()\n",
        "Model.Write2VTU()"
      ],
      "execution_count": 2,
      "outputs": [
        {
          "output_type": "error",
          "ename": "NameError",
          "evalue": "ignored",
          "traceback": [
            "\u001b[0;31m---------------------------------------------------------------------------\u001b[0m",
            "\u001b[0;31mNameError\u001b[0m                                 Traceback (most recent call last)",
            "\u001b[0;32m<ipython-input-2-7f401c4fe60d>\u001b[0m in \u001b[0;36m<module>\u001b[0;34m()\u001b[0m\n\u001b[0;32m----> 1\u001b[0;31m \u001b[0mModel\u001b[0m\u001b[0;34m=\u001b[0m\u001b[0mGeologyModel\u001b[0m\u001b[0;34m(\u001b[0m\u001b[0mfilename\u001b[0m\u001b[0;34m=\u001b[0m\u001b[0;34m'/content/PyGRDECL/ExampleData/dome.grdecl'\u001b[0m\u001b[0;34m)\u001b[0m\u001b[0;34m\u001b[0m\u001b[0;34m\u001b[0m\u001b[0m\n\u001b[0m\u001b[1;32m      2\u001b[0m \u001b[0;34m\u001b[0m\u001b[0m\n\u001b[1;32m      3\u001b[0m \u001b[0mTempData\u001b[0m\u001b[0;34m=\u001b[0m\u001b[0mModel\u001b[0m\u001b[0;34m.\u001b[0m\u001b[0mLoadCellData\u001b[0m\u001b[0;34m(\u001b[0m\u001b[0mvarname\u001b[0m\u001b[0;34m=\u001b[0m\u001b[0;34m\"TEMP\"\u001b[0m\u001b[0;34m,\u001b[0m\u001b[0mfilename\u001b[0m\u001b[0;34m=\u001b[0m\u001b[0;34m'./ExampleData/dome_Temperature.txt'\u001b[0m\u001b[0;34m)\u001b[0m\u001b[0;34m\u001b[0m\u001b[0;34m\u001b[0m\u001b[0m\n\u001b[1;32m      4\u001b[0m \u001b[0mModel\u001b[0m\u001b[0;34m.\u001b[0m\u001b[0mGRDECL2VTK\u001b[0m\u001b[0;34m(\u001b[0m\u001b[0;34m)\u001b[0m\u001b[0;34m\u001b[0m\u001b[0;34m\u001b[0m\u001b[0m\n\u001b[1;32m      5\u001b[0m \u001b[0mModel\u001b[0m\u001b[0;34m.\u001b[0m\u001b[0mWrite2VTU\u001b[0m\u001b[0;34m(\u001b[0m\u001b[0;34m)\u001b[0m\u001b[0;34m\u001b[0m\u001b[0;34m\u001b[0m\u001b[0m\n",
            "\u001b[0;31mNameError\u001b[0m: name 'GeologyModel' is not defined"
          ]
        }
      ]
    },
    {
      "cell_type": "code",
      "metadata": {
        "id": "z6rs_KiXkpIC",
        "colab_type": "code",
        "colab": {}
      },
      "source": [
        ""
      ],
      "execution_count": 0,
      "outputs": []
    }
  ]
}